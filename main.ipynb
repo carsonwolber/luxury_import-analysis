{
 "cells": [
  {
   "cell_type": "code",
   "execution_count": 1,
   "metadata": {},
   "outputs": [],
   "source": [
    "import numpy as np\n",
    "import pandas as pd"
   ]
  },
  {
   "cell_type": "code",
   "execution_count": null,
   "metadata": {},
   "outputs": [],
   "source": [
    "importData = pd.read_csv('ImportData.csv')\n",
    "GDPData = pd.read_csv('GDPData.csv')\n",
    "LandAreaData = pd.read_csv('LandAreaData.csv')\n",
    "PopulationData = pd.read_csv('PopulationData.csv')\n",
    "PPPData = pd.read_csv('PPPData.csv')\n",
    "\n",
    "data_files = [importData, GDPData, LandAreaData, PopulationData, PPPData]\n",
    "aggregate_db = pd.DataFrame(\n",
    "\n"
   ]
  }
 ],
 "metadata": {
  "kernelspec": {
   "display_name": "Python 3",
   "language": "python",
   "name": "python3"
  },
  "language_info": {
   "codemirror_mode": {
    "name": "ipython",
    "version": 3
   },
   "file_extension": ".py",
   "mimetype": "text/x-python",
   "name": "python",
   "nbconvert_exporter": "python",
   "pygments_lexer": "ipython3",
   "version": "3.11.5"
  }
 },
 "nbformat": 4,
 "nbformat_minor": 2
}
